{
 "cells": [
  {
   "cell_type": "markdown",
   "metadata": {},
   "source": [
    "List Methods\n"
   ]
  },
  {
   "cell_type": "code",
   "execution_count": null,
   "metadata": {},
   "outputs": [
    {
     "name": "stdout",
     "output_type": "stream",
     "text": [
      "['apple', 'banana', 'cherry', 1, 'apple', 2, 3]\n"
     ]
    }
   ],
   "source": [
    "list1 =['apple','banana','cherry',1,2,3] #Insert \n",
    "list1.insert(4,'apple')\n",
    "print(list1) "
   ]
  },
  {
   "cell_type": "code",
   "execution_count": 6,
   "metadata": {},
   "outputs": [
    {
     "name": "stdout",
     "output_type": "stream",
     "text": [
      "['apple', 'banana', 'cherry', 1, 'apple', 2, 3, 0, 9, 8, 'g', 'h', 'g', 'h']\n"
     ]
    }
   ],
   "source": [
    "# Extend\n",
    "list2 =[0,9,8]\n",
    "list1.extend(['g','h'])\n",
    "print(list1)\n"
   ]
  },
  {
   "cell_type": "code",
   "execution_count": 9,
   "metadata": {},
   "outputs": [
    {
     "name": "stdout",
     "output_type": "stream",
     "text": [
      "['apple', 'banana', 'cherry', 1, 'apple', 2, 3, 0, 9, 8, 'h', 'h']\n"
     ]
    }
   ],
   "source": [
    "removedValue = list1.remove('g')\n",
    "print(list1)"
   ]
  },
  {
   "cell_type": "code",
   "execution_count": 11,
   "metadata": {},
   "outputs": [
    {
     "name": "stdout",
     "output_type": "stream",
     "text": [
      "['apple', 'banana', 'cherry', 'apple', 2, 3, 0, 9, 8, 'h']\n"
     ]
    }
   ],
   "source": [
    "list1.pop(3)\n",
    "print(list1)"
   ]
  },
  {
   "cell_type": "code",
   "execution_count": null,
   "metadata": {},
   "outputs": [
    {
     "name": "stdout",
     "output_type": "stream",
     "text": [
      "[]\n",
      "['zero', 'one', 'two']\n",
      "['zero', 'one', 'two']\n",
      "['banana', 'apple']\n"
     ]
    }
   ],
   "source": [
    "# del list2\n",
    "# print(list2)\n",
    "\n",
    "# list1.clear()\n",
    "print(list1)\n",
    "\n",
    "list3 = ['zero','one','two']\n",
    "listCopy = list3.copy()\n",
    "print(list3)\n",
    "print(listCopy)\n",
    "\n"
   ]
  },
  {
   "cell_type": "code",
   "execution_count": 27,
   "metadata": {},
   "outputs": [
    {
     "name": "stdout",
     "output_type": "stream",
     "text": [
      "<class 'tuple'>\n",
      "['banana', 'apple']\n",
      "<class 'list'>\n"
     ]
    }
   ],
   "source": [
    "tuple3 = ('banana','apple')\n",
    "print(type(tuple3))\n",
    "list4 = list(tuple3)\n",
    "print(list4)\n",
    "print(type(list4))"
   ]
  },
  {
   "cell_type": "code",
   "execution_count": 29,
   "metadata": {},
   "outputs": [
    {
     "name": "stdout",
     "output_type": "stream",
     "text": [
      "[1, 2, 3, 4]\n",
      "[1, 2, 3, 4]\n"
     ]
    }
   ],
   "source": [
    "join1 = [1,2]\n",
    "join2 = [3,4]\n",
    "print(join1 + join2)\n",
    "\n",
    "join1.extend(join2)\n",
    "print(join1)"
   ]
  },
  {
   "cell_type": "code",
   "execution_count": 31,
   "metadata": {},
   "outputs": [
    {
     "data": {
      "text/plain": [
       "0"
      ]
     },
     "execution_count": 31,
     "metadata": {},
     "output_type": "execute_result"
    }
   ],
   "source": [
    "listMax = [1,5,2,8,0]\n",
    "max(listMax)\n",
    "min(listMax)"
   ]
  },
  {
   "cell_type": "code",
   "execution_count": 47,
   "metadata": {},
   "outputs": [
    {
     "name": "stdout",
     "output_type": "stream",
     "text": [
      "[1, 5, 2, 8, 0, [1], [1], 1, 1, 1, 1, 1, 1, 1, 1, 'apple', 'apple']\n"
     ]
    }
   ],
   "source": [
    "listMax.append('apple')\n",
    "print(listMax)"
   ]
  },
  {
   "cell_type": "code",
   "execution_count": 61,
   "metadata": {},
   "outputs": [
    {
     "name": "stdout",
     "output_type": "stream",
     "text": [
      "[1, 4, 6, 7]\n",
      "['apple', 'apple', 1, 1, 1, 1, 1, 1, 1, 1, [1], [1], 8, 5, 2, 1, 0]\n"
     ]
    }
   ],
   "source": [
    "listMax.count(1)\n",
    "listMax.index('apple')\n",
    "listMax.reverse()\n",
    "newlist = [1,4,7,6]\n",
    "newlist.sort()\n",
    "print(newlist)\n",
    "print(listMax)\n"
   ]
  },
  {
   "cell_type": "code",
   "execution_count": null,
   "metadata": {},
   "outputs": [],
   "source": []
  },
  {
   "cell_type": "code",
   "execution_count": null,
   "metadata": {},
   "outputs": [],
   "source": []
  }
 ],
 "metadata": {
  "kernelspec": {
   "display_name": "Python 3",
   "language": "python",
   "name": "python3"
  },
  "language_info": {
   "codemirror_mode": {
    "name": "ipython",
    "version": 3
   },
   "file_extension": ".py",
   "mimetype": "text/x-python",
   "name": "python",
   "nbconvert_exporter": "python",
   "pygments_lexer": "ipython3",
   "version": "3.12.8"
  }
 },
 "nbformat": 4,
 "nbformat_minor": 2
}
