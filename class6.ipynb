{
 "cells": [
  {
   "cell_type": "markdown",
   "metadata": {},
   "source": [
    "If Else (Conditional Making Statement )"
   ]
  },
  {
   "cell_type": "code",
   "execution_count": 10,
   "metadata": {},
   "outputs": [
    {
     "name": "stdout",
     "output_type": "stream",
     "text": [
      "A Grade\n"
     ]
    }
   ],
   "source": [
    "marks = int(input('Enter marks'))\n",
    "\n",
    "if marks >= 90 and marks < 100 :\n",
    "    print('A+ Grade')\n",
    "elif marks >=80 and marks < 90:\n",
    "    print('A Grade')\n",
    "elif marks >=70 and marks <80:\n",
    "    print('B Grade')\n",
    "elif marks >= 60 and marks <70:\n",
    "    print('C Grade')\n",
    "\n",
    "else :\n",
    "    print('You are Fail')"
   ]
  },
  {
   "cell_type": "markdown",
   "metadata": {},
   "source": [
    "Ternory operator (Shorthand)"
   ]
  },
  {
   "cell_type": "code",
   "execution_count": 13,
   "metadata": {},
   "outputs": [
    {
     "name": "stdout",
     "output_type": "stream",
     "text": [
      "num2 is Greator\n"
     ]
    }
   ],
   "source": [
    "num1 = int(input('Enter First Number'))\n",
    "num2 = int(input('Enter Second Number'))\n",
    "\n",
    "print('num1 is greater') if num1 > num2 else print('num1 is equal to num2') if num1 ==num2 else print('num2 is Greator')"
   ]
  },
  {
   "cell_type": "markdown",
   "metadata": {},
   "source": [
    "Nested If "
   ]
  },
  {
   "cell_type": "code",
   "execution_count": null,
   "metadata": {},
   "outputs": [
    {
     "name": "stdout",
     "output_type": "stream",
     "text": [
      "Nested b is greator than a\n",
      "grand child nested is a grator than b\n",
      "a is greator than b\n"
     ]
    }
   ],
   "source": [
    "a = int(input('Enter first num'))\n",
    "b = int(input('Enter second num'))\n",
    "\n",
    "if a > b:\n",
    "   #20 > 10\n",
    "    if b<a:\n",
    "        print('Nested b is greator than a')\n",
    "        if a > b:\n",
    "            print('grand child nested is a grator than b')\n",
    "\n",
    "    print('a is greator than b')\n",
    "else :\n",
    "    print('a is not grator than b')"
   ]
  },
  {
   "cell_type": "markdown",
   "metadata": {},
   "source": [
    "Pass Statement"
   ]
  },
  {
   "cell_type": "code",
   "execution_count": null,
   "metadata": {},
   "outputs": [],
   "source": [
    "a = 10\n",
    "b =3\n",
    "\n",
    "if a > b : \n",
    "    pass"
   ]
  },
  {
   "cell_type": "code",
   "execution_count": 38,
   "metadata": {},
   "outputs": [
    {
     "name": "stdout",
     "output_type": "stream",
     "text": [
      "[1, 2, 3, 4, 5]\n",
      "<class 'list'>\n",
      "5\n",
      "[3, 2, 3, 4, 5, 3, 2, 3, 4, 5]\n",
      "['mango', 'banana', 'cherry', 'grapes']\n",
      "True\n"
     ]
    }
   ],
   "source": [
    "a = [1,2,3,4,5]\n",
    "print(a)\n",
    "print(type(a))\n",
    "\n",
    "a[0] =3 #Mutable \n",
    "a[0]\n",
    "a[0:]\n",
    "a[-4:-1]\n",
    "a[2:4]\n",
    "print(len(a))\n",
    "print(a*2) # a X a\n",
    "list1 = ['mango','banana']\n",
    "list2 =['cherry','grapes']\n",
    "print(list1 + list2)\n",
    "print('mango' in list1)\n",
    "\n"
   ]
  },
  {
   "cell_type": "code",
   "execution_count": null,
   "metadata": {},
   "outputs": [],
   "source": []
  }
 ],
 "metadata": {
  "kernelspec": {
   "display_name": "Python 3",
   "language": "python",
   "name": "python3"
  },
  "language_info": {
   "codemirror_mode": {
    "name": "ipython",
    "version": 3
   },
   "file_extension": ".py",
   "mimetype": "text/x-python",
   "name": "python",
   "nbconvert_exporter": "python",
   "pygments_lexer": "ipython3",
   "version": "3.12.8"
  }
 },
 "nbformat": 4,
 "nbformat_minor": 2
}
