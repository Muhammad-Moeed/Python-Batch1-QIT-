{
 "cells": [
  {
   "cell_type": "markdown",
   "metadata": {},
   "source": [
    "SLicing (Direction , Stepsizing)\n"
   ]
  },
  {
   "cell_type": "code",
   "execution_count": 48,
   "metadata": {},
   "outputs": [
    {
     "data": {
      "text/plain": [
       "'nohtyp'"
      ]
     },
     "execution_count": 48,
     "metadata": {},
     "output_type": "execute_result"
    }
   ],
   "source": [
    "string = 'this is 4th class of python'\n",
    "# string[0:12] \n",
    "# Third parameter is  Direction | Stepsizing\n",
    "# string[::-1] #Direction\n",
    "string[::3] #Stepsizing\n",
    "\n",
    "string[-1:-7:-1]\n",
    "string[28:20:-1]\n"
   ]
  },
  {
   "cell_type": "markdown",
   "metadata": {},
   "source": [
    "String Metohds\n"
   ]
  },
  {
   "cell_type": "code",
   "execution_count": 59,
   "metadata": {},
   "outputs": [
    {
     "name": "stdout",
     "output_type": "stream",
     "text": [
      "IS STRING\n",
      "is string\n",
      "True\n",
      "False\n",
      "True\n",
      "1\n",
      "2\n",
      "ts string\n",
      "True\n",
      "True\n",
      "['is', 'string']\n"
     ]
    }
   ],
   "source": [
    "string ='is string'\n",
    "print(string.upper())\n",
    "print(string.lower())\n",
    "print(string.islower())\n",
    "print(string.isupper())\n",
    "print(string.startswith('i'))\n",
    "print(string.find('s'))\n",
    "print(string.count('s'))\n",
    "print(string.replace('is','ts'))    \n",
    "print(string.startswith('i'))\n",
    "print(string.endswith('g'))\n",
    "print(string.split(' '))"
   ]
  },
  {
   "cell_type": "markdown",
   "metadata": {},
   "source": [
    "Arthematic Operator \n"
   ]
  },
  {
   "cell_type": "code",
   "execution_count": 72,
   "metadata": {},
   "outputs": [
    {
     "name": "stdout",
     "output_type": "stream",
     "text": [
      "20\n",
      "5.0\n",
      "100\n",
      "0\n",
      "Sum of two number is : 12\n",
      "Sum of two number is : 12 & subtract is 8\n",
      "Sum of two number is 12 & subtract is 8\n"
     ]
    }
   ],
   "source": [
    "input1 = int(input('Enter 1st number'))\n",
    "input2 = int(input('Enter 2nd number'))\n",
    "# input1,input2 = ((input(\"Enter Two number\"))).split()\n",
    "# print(type(int(input1)))\n",
    "# print(type(int(input2)))\n",
    "# print(input1)\n",
    "# print(input2)\n",
    "\n",
    "# num1 = 4\n",
    "# num2 =5\n",
    "sum = input1 + input2\n",
    "subtract = input1 - input2\n",
    "multiply = input1 * input2\n",
    "divide = input1 / input2\n",
    "floorDivision = input1 // input2\n",
    "power  = input1**input2 # 6*6*6*6*6*6\n",
    "floorDivision = input1 % input2\n",
    "print(multiply)\n",
    "print(divide)\n",
    "print(power)\n",
    "print(floorDivision)\n",
    "print('Sum of two number is :',sum)\n",
    "print('Sum of two number is : {} & subtract is {}'.format(sum,subtract))\n",
    "print(f'Sum of two number is {sum} & subtract is {subtract}')\n",
    "# print(subtract)"
   ]
  },
  {
   "cell_type": "code",
   "execution_count": null,
   "metadata": {},
   "outputs": [],
   "source": []
  }
 ],
 "metadata": {
  "kernelspec": {
   "display_name": "Python 3",
   "language": "python",
   "name": "python3"
  },
  "language_info": {
   "codemirror_mode": {
    "name": "ipython",
    "version": 3
   },
   "file_extension": ".py",
   "mimetype": "text/x-python",
   "name": "python",
   "nbconvert_exporter": "python",
   "pygments_lexer": "ipython3",
   "version": "3.12.8"
  }
 },
 "nbformat": 4,
 "nbformat_minor": 2
}
