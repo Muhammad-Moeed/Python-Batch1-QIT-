{
  "cells": [
    {
      "cell_type": "markdown",
      "metadata": {
        "colab_type": "text",
        "id": "view-in-github"
      },
      "source": [
        "<a href=\"https://colab.research.google.com/github/Muhammad-Moeed/Python-Batch1-QIT-/blob/main/class3.ipynb\" target=\"_parent\"><img src=\"https://colab.research.google.com/assets/colab-badge.svg\" alt=\"Open In Colab\"/></a>"
      ]
    },
    {
      "cell_type": "markdown",
      "metadata": {
        "id": "VOgrP2558Ha_"
      },
      "source": [
        "**Unpacking**"
      ]
    },
    {
      "cell_type": "code",
      "execution_count": null,
      "metadata": {
        "colab": {
          "base_uri": "https://localhost:8080/"
        },
        "id": "J6tterF44jjd",
        "outputId": "b3073875-4e20-4217-a8b9-629cc9c072e9"
      },
      "outputs": [
        {
          "name": "stdout",
          "output_type": "stream",
          "text": [
            "banna\n"
          ]
        }
      ],
      "source": [
        "list1 = ['banana','apple']\n",
        "x,y = list1\n",
        "print(x)"
      ]
    },
    {
      "cell_type": "markdown",
      "metadata": {
        "id": "0nc_1hXY8Dsf"
      },
      "source": [
        "**Concatination**"
      ]
    },
    {
      "cell_type": "code",
      "execution_count": null,
      "metadata": {
        "colab": {
          "base_uri": "https://localhost:8080/"
        },
        "id": "A_NmgY5W6GA_",
        "outputId": "fd972893-e59f-4ac8-fb86-627ef64832cf"
      },
      "outputs": [
        {
          "name": "stdout",
          "output_type": "stream",
          "text": [
            "i love 18\n"
          ]
        }
      ],
      "source": [
        "x= 'i'\n",
        "y='love'\n",
        "z=18\n",
        "# print(x+' '+y+' '+z)\n",
        "print(x,y,z)"
      ]
    },
    {
      "cell_type": "markdown",
      "metadata": {
        "id": "_6JV9QnN79cA"
      },
      "source": [
        "**Escape Characters**\n"
      ]
    },
    {
      "cell_type": "code",
      "execution_count": 16,
      "metadata": {
        "colab": {
          "base_uri": "https://localhost:8080/"
        },
        "id": "CGeM03R96fRb",
        "outputId": "723046c6-96cc-4213-9481-ced828be1a95"
      },
      "outputs": [
        {
          "name": "stdout",
          "output_type": "stream",
          "text": [
            "i am \t \\Mulsim\\ \n",
            " Alhamdulillah\n"
          ]
        }
      ],
      "source": [
        "string = 'i am \\t \\'Mulsim\\'\\n Alhamdulillah'\n",
        "print(string)"
      ]
    },
    {
      "cell_type": "markdown",
      "metadata": {
        "id": "iZPjVAuX96Kz"
      },
      "source": [
        "# Numeric Types\n",
        "\n",
        "\n",
        "1.   Integer\n",
        "2.   Float\n",
        "3.   Complex\n",
        "\n",
        "\n",
        "\n",
        "\n",
        "\n"
      ]
    },
    {
      "cell_type": "code",
      "execution_count": 19,
      "metadata": {
        "colab": {
          "base_uri": "https://localhost:8080/"
        },
        "id": "DfkRx78I87d3",
        "outputId": "517ae51f-4ff9-4c65-d40c-f2b7d2ced813"
      },
      "outputs": [
        {
          "name": "stdout",
          "output_type": "stream",
          "text": [
            "<class 'int'>\n",
            "<class 'float'>\n",
            "<class 'complex'>\n"
          ]
        }
      ],
      "source": [
        "a = 12\n",
        "b = 12.5\n",
        "c = complex(3,4)\n",
        "print(type(a))\n",
        "print(type(b))\n",
        "print(type(c))"
      ]
    },
    {
      "cell_type": "markdown",
      "metadata": {
        "id": "DEvP0x6m-0Hw"
      },
      "source": [
        "**Type Conversion**"
      ]
    },
    {
      "cell_type": "code",
      "execution_count": 25,
      "metadata": {
        "colab": {
          "base_uri": "https://localhost:8080/"
        },
        "id": "P3EAc_fF-OjT",
        "outputId": "616772bd-2c87-439a-dd3f-7167d5776f2f"
      },
      "outputs": [
        {
          "name": "stdout",
          "output_type": "stream",
          "text": [
            "<class 'str'>\n",
            "<class 'int'>\n",
            "<class 'complex'>\n"
          ]
        }
      ],
      "source": [
        "a = str(18)\n",
        "b = int('18')\n",
        "c = complex(18.5)\n",
        "print(type(a))\n",
        "print(type(b))\n",
        "print(type(c))"
      ]
    },
    {
      "cell_type": "code",
      "execution_count": 29,
      "metadata": {
        "colab": {
          "base_uri": "https://localhost:8080/"
        },
        "id": "Rm56Aqgi-_JB",
        "outputId": "250ce33c-9d0f-454a-b519-a8141e655d89"
      },
      "outputs": [
        {
          "data": {
            "text/plain": [
              "10"
            ]
          },
          "execution_count": 29,
          "metadata": {},
          "output_type": "execute_result"
        }
      ],
      "source": [
        "import random\n",
        "random.randrange(1,100)"
      ]
    },
    {
      "cell_type": "markdown",
      "metadata": {
        "id": "O8Se4tXOBZpa"
      },
      "source": [
        "**Multiline string**"
      ]
    },
    {
      "cell_type": "code",
      "execution_count": 30,
      "metadata": {
        "colab": {
          "base_uri": "https://localhost:8080/"
        },
        "id": "Ew8PjsUB_vZO",
        "outputId": "4e2ce2ea-43b1-4394-851e-0915e3b0a865"
      },
      "outputs": [
        {
          "name": "stdout",
          "output_type": "stream",
          "text": [
            "Multi\n",
            "line \n",
            "string\n"
          ]
        }
      ],
      "source": [
        "a = '''Multi\n",
        "line\n",
        "string'''\n",
        "print(a)"
      ]
    },
    {
      "cell_type": "markdown",
      "metadata": {
        "id": "kUU4VsxWB9dI"
      },
      "source": [
        "**STRING LENGTH**"
      ]
    },
    {
      "cell_type": "code",
      "execution_count": 31,
      "metadata": {
        "colab": {
          "base_uri": "https://localhost:8080/"
        },
        "id": "APbtde3kBnqa",
        "outputId": "2bc495fb-89b8-4c43-c5bd-8dc3ae442d61"
      },
      "outputs": [
        {
          "name": "stdout",
          "output_type": "stream",
          "text": [
            "18\n"
          ]
        }
      ],
      "source": [
        "print(len(a))"
      ]
    },
    {
      "cell_type": "markdown",
      "metadata": {
        "id": "Kq54IQw-CMoH"
      },
      "source": [
        "**Check String**"
      ]
    },
    {
      "cell_type": "code",
      "execution_count": 34,
      "metadata": {
        "colab": {
          "base_uri": "https://localhost:8080/"
        },
        "id": "5mlq0Mr9B5qI",
        "outputId": "116dca9c-b8a5-41ab-84c5-84bb62da23cb"
      },
      "outputs": [
        {
          "name": "stdout",
          "output_type": "stream",
          "text": [
            "False\n"
          ]
        }
      ],
      "source": [
        "print('lint' in a)"
      ]
    },
    {
      "cell_type": "markdown",
      "metadata": {
        "id": "TspF8EikE5iR"
      },
      "source": [
        "**String Slicing**"
      ]
    },
    {
      "cell_type": "code",
      "execution_count": 41,
      "metadata": {
        "colab": {
          "base_uri": "https://localhost:8080/"
        },
        "id": "HyAButXCCXSH",
        "outputId": "588097e8-e74b-4eec-986f-aaf2ad9910f7"
      },
      "outputs": [
        {
          "name": "stdout",
          "output_type": "stream",
          "text": [
            "t s\n",
            "15\n"
          ]
        }
      ],
      "source": [
        "string = 'this is slicing'\n",
        "         #0123456789 => String Indexing\n",
        "         #123456789 => String Length\n",
        "\n",
        "print(string[0],string[6])\n",
        "print(len(string))"
      ]
    },
    {
      "cell_type": "code",
      "execution_count": 48,
      "metadata": {
        "colab": {
          "base_uri": "https://localhost:8080/"
        },
        "id": "HM7K3xJoDIQV",
        "outputId": "83f23fe4-bc1a-4aee-fbac-1443daabef43"
      },
      "outputs": [
        {
          "name": "stdout",
          "output_type": "stream",
          "text": [
            "this\n",
            "this\n",
            "this is slicing\n"
          ]
        }
      ],
      "source": [
        "print(string[0:4])\n",
        "print(string[:4])\n",
        "print(string[:])"
      ]
    },
    {
      "cell_type": "markdown",
      "metadata": {
        "id": "O4id5p11GaFt"
      },
      "source": [
        "**Immutable**"
      ]
    },
    {
      "cell_type": "code",
      "execution_count": 50,
      "metadata": {
        "colab": {
          "base_uri": "https://localhost:8080/",
          "height": 106
        },
        "id": "igfevth0FJug",
        "outputId": "bfa12f66-e81e-4766-f158-6c34e34c85fb"
      },
      "outputs": [
        {
          "ename": "SyntaxError",
          "evalue": "expression cannot contain assignment, perhaps you meant \"==\"? (<ipython-input-50-737e318d71ad>, line 1)",
          "output_type": "error",
          "traceback": [
            "\u001b[0;36m  File \u001b[0;32m\"<ipython-input-50-737e318d71ad>\"\u001b[0;36m, line \u001b[0;32m1\u001b[0m\n\u001b[0;31m    print(string[0] ='z')\u001b[0m\n\u001b[0m          ^\u001b[0m\n\u001b[0;31mSyntaxError\u001b[0m\u001b[0;31m:\u001b[0m expression cannot contain assignment, perhaps you meant \"==\"?\n"
          ]
        }
      ],
      "source": [
        "print(string[0] ='z') #immutable because no update slicing variable"
      ]
    },
    {
      "cell_type": "code",
      "execution_count": 51,
      "metadata": {
        "colab": {
          "base_uri": "https://localhost:8080/"
        },
        "id": "3-Hsvb_CGhLN",
        "outputId": "f3e733fe-a221-439f-a4aa-4c3e12c071e9"
      },
      "outputs": [
        {
          "name": "stdout",
          "output_type": "stream",
          "text": [
            "hellohellohellohello\n"
          ]
        }
      ],
      "source": [
        "print('hello'*4)"
      ]
    },
    {
      "cell_type": "code",
      "execution_count": null,
      "metadata": {
        "id": "6qXxU-b5HX5r"
      },
      "outputs": [],
      "source": []
    }
  ],
  "metadata": {
    "colab": {
      "authorship_tag": "ABX9TyPVJxnStUQhvL+NT4p3eND5",
      "include_colab_link": true,
      "provenance": []
    },
    "kernelspec": {
      "display_name": "Python 3",
      "name": "python3"
    },
    "language_info": {
      "name": "python"
    }
  },
  "nbformat": 4,
  "nbformat_minor": 0
}
