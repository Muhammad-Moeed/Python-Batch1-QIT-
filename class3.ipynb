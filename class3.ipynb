{
  "nbformat": 4,
  "nbformat_minor": 0,
  "metadata": {
    "colab": {
      "provenance": [],
      "authorship_tag": "ABX9TyPVJxnStUQhvL+NT4p3eND5",
      "include_colab_link": true
    },
    "kernelspec": {
      "name": "python3",
      "display_name": "Python 3"
    },
    "language_info": {
      "name": "python"
    }
  },
  "cells": [
    {
      "cell_type": "markdown",
      "metadata": {
        "id": "view-in-github",
        "colab_type": "text"
      },
      "source": [
        "<a href=\"https://colab.research.google.com/github/Muhammad-Moeed/Python-Batch1-QIT-/blob/main/class3.ipynb\" target=\"_parent\"><img src=\"https://colab.research.google.com/assets/colab-badge.svg\" alt=\"Open In Colab\"/></a>"
      ]
    },
    {
      "cell_type": "markdown",
      "source": [
        "**Unpacking**"
      ],
      "metadata": {
        "id": "VOgrP2558Ha_"
      }
    },
    {
      "cell_type": "code",
      "execution_count": null,
      "metadata": {
        "colab": {
          "base_uri": "https://localhost:8080/"
        },
        "id": "J6tterF44jjd",
        "outputId": "b3073875-4e20-4217-a8b9-629cc9c072e9"
      },
      "outputs": [
        {
          "output_type": "stream",
          "name": "stdout",
          "text": [
            "banna\n"
          ]
        }
      ],
      "source": [
        "list1 = ['banana','apple']\n",
        "x,y = list1\n",
        "print(x)"
      ]
    },
    {
      "cell_type": "markdown",
      "source": [
        "**Concatination**"
      ],
      "metadata": {
        "id": "0nc_1hXY8Dsf"
      }
    },
    {
      "cell_type": "code",
      "source": [
        "x= 'i'\n",
        "y='love'\n",
        "z=18\n",
        "# print(x+' '+y+' '+z)\n",
        "print(x,y,z)"
      ],
      "metadata": {
        "colab": {
          "base_uri": "https://localhost:8080/"
        },
        "id": "A_NmgY5W6GA_",
        "outputId": "fd972893-e59f-4ac8-fb86-627ef64832cf"
      },
      "execution_count": null,
      "outputs": [
        {
          "output_type": "stream",
          "name": "stdout",
          "text": [
            "i love 18\n"
          ]
        }
      ]
    },
    {
      "cell_type": "markdown",
      "source": [
        "**Escape Characters**\n"
      ],
      "metadata": {
        "id": "_6JV9QnN79cA"
      }
    },
    {
      "cell_type": "code",
      "source": [
        "string = 'i am \\t \\'Mulsim\\'\\n Alhamdulillah'\n",
        "print(string)"
      ],
      "metadata": {
        "id": "CGeM03R96fRb",
        "colab": {
          "base_uri": "https://localhost:8080/"
        },
        "outputId": "723046c6-96cc-4213-9481-ced828be1a95"
      },
      "execution_count": 16,
      "outputs": [
        {
          "output_type": "stream",
          "name": "stdout",
          "text": [
            "i am \t \\Mulsim\\ \n",
            " Alhamdulillah\n"
          ]
        }
      ]
    },
    {
      "cell_type": "markdown",
      "source": [
        "# Numeric Types\n",
        "\n",
        "\n",
        "1.   Integer\n",
        "2.   Float\n",
        "3.   Complex\n",
        "\n",
        "\n",
        "\n",
        "\n",
        "\n"
      ],
      "metadata": {
        "id": "iZPjVAuX96Kz"
      }
    },
    {
      "cell_type": "code",
      "source": [
        "a = 12\n",
        "b = 12.5\n",
        "c = complex(3,4)\n",
        "print(type(a))\n",
        "print(type(b))\n",
        "print(type(c))"
      ],
      "metadata": {
        "colab": {
          "base_uri": "https://localhost:8080/"
        },
        "id": "DfkRx78I87d3",
        "outputId": "517ae51f-4ff9-4c65-d40c-f2b7d2ced813"
      },
      "execution_count": 19,
      "outputs": [
        {
          "output_type": "stream",
          "name": "stdout",
          "text": [
            "<class 'int'>\n",
            "<class 'float'>\n",
            "<class 'complex'>\n"
          ]
        }
      ]
    },
    {
      "cell_type": "markdown",
      "source": [
        "**Type Conversion**"
      ],
      "metadata": {
        "id": "DEvP0x6m-0Hw"
      }
    },
    {
      "cell_type": "code",
      "source": [
        "a = str(18)\n",
        "b = int('18')\n",
        "c = complex(18.5)\n",
        "print(type(a))\n",
        "print(type(b))\n",
        "print(type(c))"
      ],
      "metadata": {
        "colab": {
          "base_uri": "https://localhost:8080/"
        },
        "id": "P3EAc_fF-OjT",
        "outputId": "616772bd-2c87-439a-dd3f-7167d5776f2f"
      },
      "execution_count": 25,
      "outputs": [
        {
          "output_type": "stream",
          "name": "stdout",
          "text": [
            "<class 'str'>\n",
            "<class 'int'>\n",
            "<class 'complex'>\n"
          ]
        }
      ]
    },
    {
      "cell_type": "code",
      "source": [
        "import random\n",
        "random.randrange(1,100)"
      ],
      "metadata": {
        "colab": {
          "base_uri": "https://localhost:8080/"
        },
        "id": "Rm56Aqgi-_JB",
        "outputId": "250ce33c-9d0f-454a-b519-a8141e655d89"
      },
      "execution_count": 29,
      "outputs": [
        {
          "output_type": "execute_result",
          "data": {
            "text/plain": [
              "10"
            ]
          },
          "metadata": {},
          "execution_count": 29
        }
      ]
    },
    {
      "cell_type": "markdown",
      "source": [
        "**Multiline string**"
      ],
      "metadata": {
        "id": "O8Se4tXOBZpa"
      }
    },
    {
      "cell_type": "code",
      "source": [
        "a = '''Multi\n",
        "line\n",
        "string'''\n",
        "print(a)"
      ],
      "metadata": {
        "colab": {
          "base_uri": "https://localhost:8080/"
        },
        "id": "Ew8PjsUB_vZO",
        "outputId": "4e2ce2ea-43b1-4394-851e-0915e3b0a865"
      },
      "execution_count": 30,
      "outputs": [
        {
          "output_type": "stream",
          "name": "stdout",
          "text": [
            "Multi\n",
            "line \n",
            "string\n"
          ]
        }
      ]
    },
    {
      "cell_type": "markdown",
      "source": [
        "**STRING LENGTH**"
      ],
      "metadata": {
        "id": "kUU4VsxWB9dI"
      }
    },
    {
      "cell_type": "code",
      "source": [
        "print(len(a))"
      ],
      "metadata": {
        "colab": {
          "base_uri": "https://localhost:8080/"
        },
        "id": "APbtde3kBnqa",
        "outputId": "2bc495fb-89b8-4c43-c5bd-8dc3ae442d61"
      },
      "execution_count": 31,
      "outputs": [
        {
          "output_type": "stream",
          "name": "stdout",
          "text": [
            "18\n"
          ]
        }
      ]
    },
    {
      "cell_type": "markdown",
      "source": [
        "**Check String**"
      ],
      "metadata": {
        "id": "Kq54IQw-CMoH"
      }
    },
    {
      "cell_type": "code",
      "source": [
        "print('lint' in a)"
      ],
      "metadata": {
        "colab": {
          "base_uri": "https://localhost:8080/"
        },
        "id": "5mlq0Mr9B5qI",
        "outputId": "116dca9c-b8a5-41ab-84c5-84bb62da23cb"
      },
      "execution_count": 34,
      "outputs": [
        {
          "output_type": "stream",
          "name": "stdout",
          "text": [
            "False\n"
          ]
        }
      ]
    },
    {
      "cell_type": "markdown",
      "source": [
        "**String Slicing**"
      ],
      "metadata": {
        "id": "TspF8EikE5iR"
      }
    },
    {
      "cell_type": "code",
      "source": [
        "string = 'this is slicing'\n",
        "         #0123456789 => String Indexing\n",
        "         #123456789 => String Length\n",
        "\n",
        "print(string[0],string[6])\n",
        "print(len(string))"
      ],
      "metadata": {
        "colab": {
          "base_uri": "https://localhost:8080/"
        },
        "id": "HyAButXCCXSH",
        "outputId": "588097e8-e74b-4eec-986f-aaf2ad9910f7"
      },
      "execution_count": 41,
      "outputs": [
        {
          "output_type": "stream",
          "name": "stdout",
          "text": [
            "t s\n",
            "15\n"
          ]
        }
      ]
    },
    {
      "cell_type": "code",
      "source": [
        "print(string[0:4])\n",
        "print(string[:4])\n",
        "print(string[:])"
      ],
      "metadata": {
        "colab": {
          "base_uri": "https://localhost:8080/"
        },
        "id": "HM7K3xJoDIQV",
        "outputId": "83f23fe4-bc1a-4aee-fbac-1443daabef43"
      },
      "execution_count": 48,
      "outputs": [
        {
          "output_type": "stream",
          "name": "stdout",
          "text": [
            "this\n",
            "this\n",
            "this is slicing\n"
          ]
        }
      ]
    },
    {
      "cell_type": "markdown",
      "source": [
        "**Immutable**"
      ],
      "metadata": {
        "id": "O4id5p11GaFt"
      }
    },
    {
      "cell_type": "code",
      "source": [
        "print(string[0] ='z') #immutable because no update slicing variable"
      ],
      "metadata": {
        "colab": {
          "base_uri": "https://localhost:8080/",
          "height": 106
        },
        "id": "igfevth0FJug",
        "outputId": "bfa12f66-e81e-4766-f158-6c34e34c85fb"
      },
      "execution_count": 50,
      "outputs": [
        {
          "output_type": "error",
          "ename": "SyntaxError",
          "evalue": "expression cannot contain assignment, perhaps you meant \"==\"? (<ipython-input-50-737e318d71ad>, line 1)",
          "traceback": [
            "\u001b[0;36m  File \u001b[0;32m\"<ipython-input-50-737e318d71ad>\"\u001b[0;36m, line \u001b[0;32m1\u001b[0m\n\u001b[0;31m    print(string[0] ='z')\u001b[0m\n\u001b[0m          ^\u001b[0m\n\u001b[0;31mSyntaxError\u001b[0m\u001b[0;31m:\u001b[0m expression cannot contain assignment, perhaps you meant \"==\"?\n"
          ]
        }
      ]
    },
    {
      "cell_type": "code",
      "source": [
        "print('hello'*4)"
      ],
      "metadata": {
        "colab": {
          "base_uri": "https://localhost:8080/"
        },
        "id": "3-Hsvb_CGhLN",
        "outputId": "f3e733fe-a221-439f-a4aa-4c3e12c071e9"
      },
      "execution_count": 51,
      "outputs": [
        {
          "output_type": "stream",
          "name": "stdout",
          "text": [
            "hellohellohellohello\n"
          ]
        }
      ]
    },
    {
      "cell_type": "code",
      "source": [],
      "metadata": {
        "id": "6qXxU-b5HX5r"
      },
      "execution_count": null,
      "outputs": []
    }
  ]
}