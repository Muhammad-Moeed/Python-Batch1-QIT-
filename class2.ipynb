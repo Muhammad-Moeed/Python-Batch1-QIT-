{
  "nbformat": 4,
  "nbformat_minor": 0,
  "metadata": {
    "colab": {
      "provenance": [],
      "authorship_tag": "ABX9TyMTR2XKk0ucXHfsa9r/ZDL4",
      "include_colab_link": true
    },
    "kernelspec": {
      "name": "python3",
      "display_name": "Python 3"
    },
    "language_info": {
      "name": "python"
    }
  },
  "cells": [
    {
      "cell_type": "markdown",
      "metadata": {
        "id": "view-in-github",
        "colab_type": "text"
      },
      "source": [
        "<a href=\"https://colab.research.google.com/github/Muhammad-Moeed/Python-Batch1-QIT-/blob/main/class2.ipynb\" target=\"_parent\"><img src=\"https://colab.research.google.com/assets/colab-badge.svg\" alt=\"Open In Colab\"/></a>"
      ]
    },
    {
      "cell_type": "code",
      "execution_count": 21,
      "metadata": {
        "colab": {
          "base_uri": "https://localhost:8080/"
        },
        "id": "GQHsuzRsjaji",
        "outputId": "348644ea-a03a-40be-a05d-6047a0218f17"
      },
      "outputs": [
        {
          "output_type": "stream",
          "name": "stdout",
          "text": [
            "18 9 1j ['banana', 'apple'] ('banna', 'apple')\n"
          ]
        }
      ],
      "source": [
        "a = 'string'  #string\n",
        "a = '18'\n",
        "b = 9 #intiger\n",
        "c = 1J #Complex\n",
        "x = ['banana','apple'] #List\n",
        "y = ('banna','apple') #Tuple\n",
        "print(a,b,c,x,y)\n"
      ]
    },
    {
      "cell_type": "code",
      "source": [
        "print(type (a))\n",
        "print(type (b))\n",
        "print(type (c))\n",
        "print(type (x))\n",
        "print(type (y))\n",
        "z = True #Bool\n",
        "print(type (z))"
      ],
      "metadata": {
        "colab": {
          "base_uri": "https://localhost:8080/"
        },
        "id": "9DXEv38cmA8h",
        "outputId": "a942dc83-e985-4731-c67c-ee5a29d8bc69"
      },
      "execution_count": 20,
      "outputs": [
        {
          "output_type": "stream",
          "name": "stdout",
          "text": [
            "<class 'str'>\n",
            "<class 'int'>\n",
            "<class 'complex'>\n",
            "<class 'list'>\n",
            "<class 'tuple'>\n",
            "<class 'bool'>\n"
          ]
        }
      ]
    },
    {
      "cell_type": "code",
      "source": [
        "firstName  = 'Muhammad' # Camel Case\n",
        "LastName = 'Moeed' # Pascal Case\n",
        "Course_Duration = '2 motnh' # Snake Case"
      ],
      "metadata": {
        "id": "4Mu_JD2an57n"
      },
      "execution_count": 22,
      "outputs": []
    },
    {
      "cell_type": "code",
      "source": [
        "a,b = 'Hello','Pakistan'\n",
        "print(a,b)\n",
        "d=e=f = 'Hello'\n",
        "print(d,e,f)"
      ],
      "metadata": {
        "colab": {
          "base_uri": "https://localhost:8080/"
        },
        "id": "-g5gn40_sAKJ",
        "outputId": "538f9bbb-b549-4774-9884-70af3b71313f"
      },
      "execution_count": 26,
      "outputs": [
        {
          "output_type": "stream",
          "name": "stdout",
          "text": [
            "Hello Pakistan\n",
            "Hello Hello Hello\n"
          ]
        }
      ]
    },
    {
      "cell_type": "code",
      "source": [
        "list1 = ['string','true','int']\n",
        "x,y,z = list1 #unpacking\n",
        "print(list1)\n",
        "print(x)\n",
        "print(y)\n",
        "print(z)\n"
      ],
      "metadata": {
        "colab": {
          "base_uri": "https://localhost:8080/"
        },
        "id": "PEcRrH-TtGGm",
        "outputId": "3cc6d7ec-50a7-4657-bf33-e35e7045db33"
      },
      "execution_count": 32,
      "outputs": [
        {
          "output_type": "stream",
          "name": "stdout",
          "text": [
            "['string', 'true', 'int']\n",
            "string\n",
            "true\n",
            "int\n"
          ]
        }
      ]
    },
    {
      "cell_type": "code",
      "source": [
        "#Concatination\n",
        "print(x+y+z)\n",
        "\n",
        "print(x,y,z)\n"
      ],
      "metadata": {
        "colab": {
          "base_uri": "https://localhost:8080/"
        },
        "id": "485yk7G7uYO5",
        "outputId": "6245b34a-ed99-4004-e16c-497001a4b530"
      },
      "execution_count": 35,
      "outputs": [
        {
          "output_type": "stream",
          "name": "stdout",
          "text": [
            "stringtrueint\n",
            "string true int\n"
          ]
        }
      ]
    },
    {
      "cell_type": "code",
      "source": [
        "string = 'pakistan'\n",
        "num1 = 8\n",
        "num2 = 10\n",
        "print(num1+num2)"
      ],
      "metadata": {
        "colab": {
          "base_uri": "https://localhost:8080/"
        },
        "id": "GhAwbuMuuVfx",
        "outputId": "1d699993-97de-4452-928d-a82b2a44f8ed"
      },
      "execution_count": 38,
      "outputs": [
        {
          "output_type": "stream",
          "name": "stdout",
          "text": [
            "18\n"
          ]
        }
      ]
    },
    {
      "cell_type": "code",
      "source": [],
      "metadata": {
        "id": "rTfRN7ThvtjM"
      },
      "execution_count": null,
      "outputs": []
    }
  ]
}