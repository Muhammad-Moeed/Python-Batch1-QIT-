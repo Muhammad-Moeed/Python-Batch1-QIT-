{
 "cells": [
  {
   "cell_type": "markdown",
   "metadata": {},
   "source": [
    "Comparison Operators  "
   ]
  },
  {
   "cell_type": "code",
   "execution_count": 6,
   "metadata": {},
   "outputs": [
    {
     "data": {
      "text/plain": [
       "True"
      ]
     },
     "execution_count": 6,
     "metadata": {},
     "output_type": "execute_result"
    }
   ],
   "source": [
    "a = 4\n",
    "b = 4\n",
    "\n",
    "a <= b\n"
   ]
  },
  {
   "cell_type": "markdown",
   "metadata": {},
   "source": [
    "Logical Operator \n",
    "and >> true + true => true\n",
    "or >> true + false => true\n",
    "not(a > b)\n",
    "\n",
    "\n"
   ]
  },
  {
   "cell_type": "code",
   "execution_count": 11,
   "metadata": {},
   "outputs": [
    {
     "name": "stdout",
     "output_type": "stream",
     "text": [
      "False\n",
      "False\n",
      "True\n"
     ]
    }
   ],
   "source": [
    "a = 12\n",
    "b = 10\n",
    "\n",
    "print(a > b and a < b) # both condition will be true\n",
    "print(a < b or a <b) # if one condition is ture so return true\n",
    "print(not(a < b or a <b))\n"
   ]
  },
  {
   "cell_type": "markdown",
   "metadata": {},
   "source": [
    "Identitity Operator"
   ]
  },
  {
   "cell_type": "code",
   "execution_count": 32,
   "metadata": {},
   "outputs": [
    {
     "name": "stdout",
     "output_type": "stream",
     "text": [
      "True\n",
      "True\n"
     ]
    }
   ],
   "source": [
    "x = 'any'\n",
    "y = 'any one'\n",
    "list1 = ['one']\n",
    "\n",
    "\n",
    "print(\"a\" in y)\n",
    "print('onee' not in list1)"
   ]
  },
  {
   "cell_type": "markdown",
   "metadata": {},
   "source": [
    "Bitwise Operator\n"
   ]
  },
  {
   "cell_type": "code",
   "execution_count": null,
   "metadata": {},
   "outputs": [
    {
     "name": "stdout",
     "output_type": "stream",
     "text": [
      "24\n",
      "1\n",
      "4\n",
      "5\n",
      "1\n",
      "-6\n"
     ]
    }
   ],
   "source": [
    "# True = 1\n",
    "# False = 0\n",
    "\n",
    "# **********AND (&)***********\n",
    "a = 5      #=> 101 \n",
    "b =4       #=> 100\n",
    "andBit =a & b   #=> 100 (4)  \n",
    "\n",
    "# **********OR (|)***********\n",
    "a = 5      #=> 101 \n",
    "b =4       #=> 100\n",
    "orBIt = a|b    #=> 101 (5)\n",
    "\n",
    "# **********XOR (^)***********\n",
    "a = 5      #=> 101 \n",
    "b =4       #=> 100\n",
    "xorBit = a^b    #=> 001 (1)\n",
    "\n",
    "# **********NOT (~)***********\n",
    "a = 5      #=> 101 \n",
    "notBit = ~(a)   #=> 001 (-6)\n",
    "\n",
    "# **********Left Shift (<<)***********\n",
    "shiftBit = 6\n",
    "print(shiftBit <<2) \n",
    "\n",
    "# **********Right Shift (<<)***********\n",
    "shiftBit = 6\n",
    "print(shiftBit >>2)\n",
    "\n",
    "print(andBit)\n",
    "print(orBIt)\n",
    "print(xorBit)\n",
    "print(notBit)\n",
    "\n",
    "\n"
   ]
  },
  {
   "cell_type": "code",
   "execution_count": null,
   "metadata": {},
   "outputs": [],
   "source": []
  }
 ],
 "metadata": {
  "kernelspec": {
   "display_name": "Python 3",
   "language": "python",
   "name": "python3"
  },
  "language_info": {
   "codemirror_mode": {
    "name": "ipython",
    "version": 3
   },
   "file_extension": ".py",
   "mimetype": "text/x-python",
   "name": "python",
   "nbconvert_exporter": "python",
   "pygments_lexer": "ipython3",
   "version": "3.12.8"
  }
 },
 "nbformat": 4,
 "nbformat_minor": 2
}
