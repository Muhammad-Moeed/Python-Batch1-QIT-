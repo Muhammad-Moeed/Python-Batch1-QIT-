{
 "cells": [
  {
   "cell_type": "markdown",
   "metadata": {},
   "source": [
    "# Class & Obejcts "
   ]
  },
  {
   "cell_type": "code",
   "execution_count": 9,
   "metadata": {},
   "outputs": [
    {
     "name": "stdout",
     "output_type": "stream",
     "text": [
      "Dog\n",
      "Dog is speaking\n"
     ]
    }
   ],
   "source": [
    "class Animal: # Class\n",
    "    def __init__(self, n): #constructor\n",
    "        self.name = n #Attribute\n",
    "    def speak(self):\n",
    "        print(f'{self.name} is speaking')\n",
    "\n",
    "Obj1 = Animal('Dog') #Instance\n",
    "Obj2 = Animal('Cat') #Instance\n",
    "print(Obj1.name)\n",
    "Obj1.speak()\n",
    "\n",
    "\n",
    "\n"
   ]
  },
  {
   "cell_type": "markdown",
   "metadata": {},
   "source": [
    "# Getter & Setter metohd"
   ]
  },
  {
   "cell_type": "markdown",
   "metadata": {},
   "source": []
  },
  {
   "cell_type": "code",
   "execution_count": null,
   "metadata": {},
   "outputs": [
    {
     "data": {
      "text/plain": [
       "'Ahmed 2'"
      ]
     },
     "execution_count": 12,
     "metadata": {},
     "output_type": "execute_result"
    }
   ],
   "source": [
    "class Student:\n",
    "    def __init__(self, n, r):\n",
    "        self.name = n\n",
    "        self.roll = r\n",
    "    def Get(self):\n",
    "        return f'{self.name} {self.roll}'\n",
    "    \n",
    "    def Set(self, n, r):\n",
    "        self.name = n\n",
    "        self.roll = r\n",
    "    \n",
    "\n",
    "Obj1 = Student('Ali', 1)\n",
    "Obj1.Get()\n",
    "Obj1.Set('Ahmed', 2)\n",
    "Obj1.Get()"
   ]
  },
  {
   "cell_type": "markdown",
   "metadata": {},
   "source": [
    "# Inheritance\n"
   ]
  },
  {
   "cell_type": "code",
   "execution_count": 47,
   "metadata": {},
   "outputs": [
    {
     "ename": "AttributeError",
     "evalue": "'Child' object has no attribute 'skinColor'",
     "output_type": "error",
     "traceback": [
      "\u001b[1;31m---------------------------------------------------------------------------\u001b[0m",
      "\u001b[1;31mAttributeError\u001b[0m                            Traceback (most recent call last)",
      "Cell \u001b[1;32mIn[47], line 16\u001b[0m\n\u001b[0;32m     13\u001b[0m         \u001b[38;5;28;01mreturn\u001b[39;00m \u001b[38;5;124mf\u001b[39m\u001b[38;5;124m'\u001b[39m\u001b[38;5;124mSkin Color is : \u001b[39m\u001b[38;5;132;01m{\u001b[39;00m\u001b[38;5;28mself\u001b[39m\u001b[38;5;241m.\u001b[39mskinColor\u001b[38;5;132;01m}\u001b[39;00m\u001b[38;5;124m Eye:  \u001b[39m\u001b[38;5;132;01m{\u001b[39;00m\u001b[38;5;28mself\u001b[39m\u001b[38;5;241m.\u001b[39meyeColor\u001b[38;5;132;01m}\u001b[39;00m\u001b[38;5;124m'\u001b[39m\n\u001b[0;32m     15\u001b[0m Obj1 \u001b[38;5;241m=\u001b[39m Child(\u001b[38;5;124m'\u001b[39m\u001b[38;5;124mAli\u001b[39m\u001b[38;5;124m'\u001b[39m, \u001b[38;5;124m'\u001b[39m\u001b[38;5;124mBrown\u001b[39m\u001b[38;5;124m'\u001b[39m, \u001b[38;5;124m'\u001b[39m\u001b[38;5;124mWhite\u001b[39m\u001b[38;5;124m'\u001b[39m)\n\u001b[1;32m---> 16\u001b[0m \u001b[43mObj1\u001b[49m\u001b[38;5;241;43m.\u001b[39;49m\u001b[43m_Getter\u001b[49m\u001b[43m(\u001b[49m\u001b[43m)\u001b[49m\n",
      "Cell \u001b[1;32mIn[47], line 13\u001b[0m, in \u001b[0;36mChild._Getter\u001b[1;34m(self)\u001b[0m\n\u001b[0;32m     12\u001b[0m \u001b[38;5;28;01mdef\u001b[39;00m\u001b[38;5;250m \u001b[39m\u001b[38;5;21m_Getter\u001b[39m(\u001b[38;5;28mself\u001b[39m):\n\u001b[1;32m---> 13\u001b[0m     \u001b[38;5;28;01mreturn\u001b[39;00m \u001b[38;5;124mf\u001b[39m\u001b[38;5;124m'\u001b[39m\u001b[38;5;124mSkin Color is : \u001b[39m\u001b[38;5;132;01m{\u001b[39;00m\u001b[38;5;28;43mself\u001b[39;49m\u001b[38;5;241;43m.\u001b[39;49m\u001b[43mskinColor\u001b[49m\u001b[38;5;132;01m}\u001b[39;00m\u001b[38;5;124m Eye:  \u001b[39m\u001b[38;5;132;01m{\u001b[39;00m\u001b[38;5;28mself\u001b[39m\u001b[38;5;241m.\u001b[39meyeColor\u001b[38;5;132;01m}\u001b[39;00m\u001b[38;5;124m'\u001b[39m\n",
      "\u001b[1;31mAttributeError\u001b[0m: 'Child' object has no attribute 'skinColor'"
     ]
    }
   ],
   "source": [
    "class Parent():\n",
    "    def __init__(self, n, e):\n",
    "        self.name = n\n",
    "        self.eyeColor = e\n",
    "    def _Getter(self):\n",
    "        print(f'Eye Color is : {self.eyeColor}')\n",
    "\n",
    "class Child(Parent):\n",
    "    def __init__(self, n, e, s):\n",
    "        super().__init__(n, e)\n",
    "        self._skinColor = s\n",
    "    def _Getter(self):\n",
    "        return f'Skin Color is : {self.skinColor} Eye:  {self.eyeColor}'\n",
    "\n",
    "Obj1 = Child('Ali', 'Brown', 'White')\n",
    "Obj1._Getter()\n",
    "\n"
   ]
  },
  {
   "cell_type": "code",
   "execution_count": 34,
   "metadata": {},
   "outputs": [
    {
     "name": "stdout",
     "output_type": "stream",
     "text": [
      "I have 8 sides\n",
      "I have 4 sides\n"
     ]
    }
   ],
   "source": [
    "class Polygon():\n",
    "    def sides(self):\n",
    "        print('I have 8 sides')\n",
    "\n",
    "\n",
    "class Square(Polygon):\n",
    "    def sides(self):\n",
    "        super().sides()\n",
    "        print('I have 4 sides')\n",
    "\n",
    "\n",
    "# PolyObj1 = Polygon()\n",
    "PolyObj2 = Square()\n",
    "# PolyObj1.sides()\n",
    "PolyObj2.sides()"
   ]
  }
 ],
 "metadata": {
  "kernelspec": {
   "display_name": "Python 3",
   "language": "python",
   "name": "python3"
  },
  "language_info": {
   "codemirror_mode": {
    "name": "ipython",
    "version": 3
   },
   "file_extension": ".py",
   "mimetype": "text/x-python",
   "name": "python",
   "nbconvert_exporter": "python",
   "pygments_lexer": "ipython3",
   "version": "3.12.8"
  }
 },
 "nbformat": 4,
 "nbformat_minor": 2
}
